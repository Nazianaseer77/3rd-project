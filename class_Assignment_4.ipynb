{
  "nbformat": 4,
  "nbformat_minor": 0,
  "metadata": {
    "colab": {
      "provenance": [],
      "authorship_tag": "ABX9TyONi4meaJOLJdsIyq76CPmo",
      "include_colab_link": true
    },
    "kernelspec": {
      "name": "python3",
      "display_name": "Python 3"
    },
    "language_info": {
      "name": "python"
    }
  },
  "cells": [
    {
      "cell_type": "markdown",
      "metadata": {
        "id": "view-in-github",
        "colab_type": "text"
      },
      "source": [
        "<a href=\"https://colab.research.google.com/github/Nazianaseer77/3rd-project/blob/main/class_Assignment_4.ipynb\" target=\"_parent\"><img src=\"https://colab.research.google.com/assets/colab-badge.svg\" alt=\"Open In Colab\"/></a>"
      ]
    },
    {
      "cell_type": "markdown",
      "source": [],
      "metadata": {
        "id": "eJ549zoLTeVZ"
      }
    },
    {
      "cell_type": "code",
      "execution_count": null,
      "metadata": {
        "id": "ADZ4aYNSTNzN"
      },
      "outputs": [],
      "source": []
    },
    {
      "cell_type": "markdown",
      "source": [
        "Tasks:\n",
        "1. Create and Modify Lists\n",
        "o Create a list called fruits with the items: \"apple\", \"banana\", \"orange\"\n",
        "o Add \"grape\" to the end of the list using an appropriate method\n",
        "o Insert \"mango\" at position 2 in the list\n",
        "o Remove \"banana\" from the list o print the final list.\n"
      ],
      "metadata": {
        "id": "54DX6pHtTxOG"
      }
    },
    {
      "cell_type": "code",
      "source": [
        "# Task 1 : create and modify list\n",
        "\n",
        "fruits = [\"apple\", \"banana\",\"orange\"]\n",
        "fruits.append(\"grapes\")  # add grapes to the end\n",
        "fruits.insert(2, \"mango\") # mango add position 2\n",
        "fruits.remove(\"banana\")  # remove banana\n",
        "print(\"final fruit list\", fruits)"
      ],
      "metadata": {
        "colab": {
          "base_uri": "https://localhost:8080/"
        },
        "id": "1NcVv3ukT_sG",
        "outputId": "16e08415-2721-4e85-ebe8-878812c91060"
      },
      "execution_count": null,
      "outputs": [
        {
          "output_type": "stream",
          "name": "stdout",
          "text": [
            "final fruit list ['apple', 'mango', 'orange', 'grapes']\n"
          ]
        }
      ]
    },
    {
      "cell_type": "markdown",
      "source": [
        "2. List Operations\n",
        "o Create a list numbers with values: 10, 20, 30, 40, 50\n",
        "o Create a second list more_numbers with values: 60, 70, 80\n",
        "o Combine both lists into a new list called all_numbers\n",
        "o Make a copy of all_numbers called numbers_copy\n",
        "o Reverse the order of numbers_copy\n",
        "o Print both all_numbers and numbers_copy"
      ],
      "metadata": {
        "id": "PEbFUw3bWBbi"
      }
    },
    {
      "cell_type": "code",
      "source": [
        "# Task 2: List operations\n",
        "\n",
        "numbers = [10, 20, 30, 40, 50]\n",
        "more_numbers = [60, 70, 80]\n",
        "all_numbers = numbers + more_numbers     # combine two list\n",
        "numbers_copy = all_numbers.copy()        # make a copy\n",
        "numbers_copy.reverse()                   # reversed the copy\n",
        "print(\"All numbers:\", all_numbers)\n",
        "print(\"Reversed copy:\", numbers_copy)"
      ],
      "metadata": {
        "id": "EBzXWTW6WJCo",
        "colab": {
          "base_uri": "https://localhost:8080/"
        },
        "outputId": "7f479406-c44e-449f-cb12-621dc56bdd68"
      },
      "execution_count": null,
      "outputs": [
        {
          "output_type": "stream",
          "name": "stdout",
          "text": [
            "All numbers: [10, 20, 30, 40, 50, 60, 70, 80]\n",
            "Reversed copy: [80, 70, 60, 50, 40, 30, 20, 10]\n"
          ]
        }
      ]
    },
    {
      "cell_type": "markdown",
      "source": [
        "3. Sorting and Counting\n",
        "o Create a list scores with these values: 85, 92, 78, 65, 92, 85, 74\n",
        "o Sort the list in ascending order\n",
        "o Sort the list in descending order\n",
        "o Count how many times 92 appears in the list\n",
        "o Find and print the highest and lowest scores\n",
        "o Print the sorted list\n",
        "\n"
      ],
      "metadata": {
        "id": "eH3SvINaFgjT"
      }
    },
    {
      "cell_type": "code",
      "source": [
        "# Task 3 Sorting and counting\n",
        "\n",
        "scores = [85, 92, 78, 65, 92, 85, 74]\n",
        "ascending_scores = sorted (scores)                  # Ascending sort\n",
        "descending_scores = sorted (scores, reverse= True)  # descending sort\n",
        "count_92 = scores.count(92)                         # count how many times 92 appears\n",
        "heighest_scores = max(scores)\n",
        "lowest_scores = min(scores)\n",
        "\n",
        "print(\"sorted scores (asc):\", ascending_scores)\n",
        "print(\"sorted scores (desc):\", descending_scores)\n",
        "print(\"count of 92:\",count_92)\n",
        "print(\"Heighest score:\" , heighest_scores)\n",
        "print(\"lowest score:\", lowest_scores)"
      ],
      "metadata": {
        "colab": {
          "base_uri": "https://localhost:8080/"
        },
        "id": "7xMy3NZgF6Ox",
        "outputId": "03fed8a0-eb40-46fa-f645-46b7bcaf1e0c"
      },
      "execution_count": null,
      "outputs": [
        {
          "output_type": "stream",
          "name": "stdout",
          "text": [
            "sorted scores (asc): [65, 74, 78, 85, 85, 92, 92]\n",
            "sorted scores (desc): [92, 92, 85, 85, 78, 74, 65]\n",
            "count of 92: 2\n",
            "Heighest score: 92\n",
            "lowest score: 65\n"
          ]
        }
      ]
    },
    {
      "cell_type": "markdown",
      "source": [
        "4. List Manipulation\n",
        "o Create a list letters with values: \"a\", \"b\", \"c\", \"d\", \"e\"\n",
        "o Use slicing to create a new list with only the first three letters\n",
        "o Use slicing to create another list with only the last two letters\n",
        "o Find and print the index of \"c\" in the list\n",
        "o Replace \"d\" with \"z\" in the original list\n",
        "o Print the modified list"
      ],
      "metadata": {
        "id": "rMYQ_Qg3Jbdb"
      }
    },
    {
      "cell_type": "code",
      "source": [
        " # Task 4 List Manipulation\n",
        "\n",
        " letters = [\"a\", \"b\", \"c\", \"d\", \"e\"]\n",
        " first_three = letters[:3]\n",
        " last_two = letters [-2:]\n",
        " index_of_c = letters.index(\"c\")\n",
        " letters[3] = \"z\"\n",
        " print(\"First three letters:\",first_three)\n",
        " print(\"Last two letters:\", last_two)\n",
        " print(\"index of 'c':\", index_of_c)\n",
        " print(\"Modified letters list:\", letters)"
      ],
      "metadata": {
        "colab": {
          "base_uri": "https://localhost:8080/"
        },
        "id": "Jf5lsy-yJlOh",
        "outputId": "a3d71f26-a5f3-43fd-e50f-b9527d59cabb"
      },
      "execution_count": null,
      "outputs": [
        {
          "output_type": "stream",
          "name": "stdout",
          "text": [
            "First three letters: ['a', 'b', 'c']\n",
            "Last two letters: ['d', 'e']\n",
            "index of 'c': 2\n",
            "Modified letters list: ['a', 'b', 'c', 'z', 'e']\n"
          ]
        }
      ]
    },
    {
      "cell_type": "markdown",
      "source": [
        "# Dictionary Methods **Practice**\n",
        "Assignment Overview:\n",
        "In this assignment, you will practice using different dictionary methods in Python.\n",
        "Dictionaries are essential data structures that store key-value pairs and are widely used\n",
        "in Python programming.\n",
        "\n",
        "Tasks:\n",
        "1. Create and Access Dictionaries"
      ],
      "metadata": {
        "id": "VyyaYWUfNKfL"
      }
    },
    {
      "cell_type": "code",
      "source": [
        "# Task 1: Create and Access Dictionaries\n",
        "student = {\n",
        "    \"name\": \"Ayan\",\n",
        "    \"age\": 25,\n",
        "    \"Grade\": \"A\",\n",
        "    \"Courses\": [\"science\",\"computer\",\"Math\"]\n",
        "}\n",
        "\n",
        "# Ascending value\n",
        "print(\"student Names:\", student [\"name\"])\n",
        "print(\"Courses List:\", student [\"Courses\"])\n",
        "\n",
        "# Adding a new key-value pair\n",
        "student[\"email\"] = \"ayan123@gmail.com\"\n",
        "print(\"Updated student dictionary:\", student)"
      ],
      "metadata": {
        "colab": {
          "base_uri": "https://localhost:8080/"
        },
        "id": "cNMsfuDuOG9g",
        "outputId": "fdccb802-3ca1-4fb7-f8c4-b62f3ca01891"
      },
      "execution_count": null,
      "outputs": [
        {
          "output_type": "stream",
          "name": "stdout",
          "text": [
            "student Names: Ayan\n",
            "Courses List: ['science', 'computer', 'Math']\n",
            "Updated student dictionary: {'name': 'Ayan', 'age': 25, 'Grade': 'A', 'Courses': ['science', 'computer', 'Math'], 'email': 'ayan123@gmail.com'}\n"
          ]
        }
      ]
    },
    {
      "cell_type": "markdown",
      "source": [
        "# 2. Modify Dictionary **Values**"
      ],
      "metadata": {
        "id": "OlcCOAsURoOZ"
      }
    },
    {
      "cell_type": "code",
      "source": [
        "student = {\n",
        "    \"name\": \"Ayan\",\n",
        "    \"age\": 25,\n",
        "    \"Grade\": \"A\",\n",
        "    \"Courses\": [\"science\",\"computer\",\"Math\"]\n",
        "}\n",
        "\n",
        "# Ascending value\n",
        "print(\"student Names:\", student [\"name\"])\n",
        "print(\"Courses List:\", student [\"Courses\"])\n",
        "\n",
        "# Adding a new key-value pair\n",
        "student[\"email\"] = \"ayan123@gmail.com\"\n",
        "print(\"Updated student dictionary:\", student)\n",
        "\n",
        "# Task 2: Modify Dictionary values\n",
        "\n",
        "student[\"age\"] = 26                    # change age\n",
        "student[\"Courses\"].append(\"Biology\")   # Add Course\n",
        "student[\"Grade\"] = \"A+\"                # update grade\n",
        "print(\"update modify dictionary\", student)"
      ],
      "metadata": {
        "colab": {
          "base_uri": "https://localhost:8080/"
        },
        "id": "qpZSphxURwJH",
        "outputId": "d227a71a-201d-40cc-a93b-a65ec5b67e69"
      },
      "execution_count": null,
      "outputs": [
        {
          "output_type": "stream",
          "name": "stdout",
          "text": [
            "student Names: Ayan\n",
            "Courses List: ['science', 'computer', 'Math']\n",
            "Updated student dictionary: {'name': 'Ayan', 'age': 25, 'Grade': 'A', 'Courses': ['science', 'computer', 'Math'], 'email': 'ayan123@gmail.com'}\n",
            "update modify dictionary {'name': 'Ayan', 'age': 26, 'Grade': 'A+', 'Courses': ['science', 'computer', 'Math', 'Biology'], 'email': 'ayan123@gmail.com'}\n"
          ]
        }
      ]
    },
    {
      "cell_type": "markdown",
      "source": [
        "3. Dictionary Operations\n",
        "o Create a second dictionary student_address with these key-value pairs:\n",
        " \"street\": \"123 College Ave\"\n",
        " \"city\": \"New York\"\n",
        " \"zip\": \"10001\"\n",
        "o Combine both dictionaries into a new dictionary called student_info\n",
        "o Remove the \"zip\" key from student_info\n",
        "o Check if \"phone\" exists in the dictionary\n",
        "o Print the final dictionary"
      ],
      "metadata": {
        "id": "_WOAqTCJXB3S"
      }
    },
    {
      "cell_type": "code",
      "source": [
        "# Existing student dictionary\n",
        "\n",
        "student = {\n",
        "    \"name\": \"Jhon\",\n",
        "    \"age\": 26,\n",
        "    \"grade\": \"A+\",\n",
        "    \"Courses\": [\"science\", \"computer\", \"Math\", \"Biology\"],\n",
        "    \"email\": \"jhon123@gmail.com\"\n",
        "\n",
        "}\n",
        "\n",
        "# Step 1 : create the second dictionary\n",
        "student_address = {\n",
        "    \"street\": \"123 college Ave\",\n",
        "    \"city\": \"New york\",\n",
        "    \"Zip\": \"10001\"\n",
        "}\n",
        "\n",
        "# Step 2 : combine both dictioaries into a new one\n",
        "student_info = {**student, **student_address}\n",
        "\n",
        "# Step 3 : Remove the \"Zip\" key\n",
        "student_info.pop(\"Zip\", None)\n",
        "\n",
        "# Step 4 : check if \"phone\" exists in the dictionary\n",
        "phone_exists = \"phone\" in student_info\n",
        "print(\"Does 'phone' exists in phone info?\", phone_exists)\n",
        "\n",
        "# step 5: print the final dictionary\n",
        "print(\"final student_info Dictionary\")\n",
        "print(student_info)\n"
      ],
      "metadata": {
        "colab": {
          "base_uri": "https://localhost:8080/"
        },
        "id": "Yw0nK-6EXDL5",
        "outputId": "361a4607-ad42-427a-9508-429c9c7fdb64"
      },
      "execution_count": null,
      "outputs": [
        {
          "output_type": "stream",
          "name": "stdout",
          "text": [
            "Does 'phone' exists in phone info? False\n",
            "final student_info Dictionary\n",
            "{'name': 'Jhon', 'age': 26, 'grade': 'A+', 'Courses': ['science', 'computer', 'Math', 'Biology'], 'email': 'ayan123@gmail.com', 'street': '123 college Ave', 'city': 'New york'}\n"
          ]
        }
      ]
    },
    {
      "cell_type": "markdown",
      "source": [
        "# 4. Dictionary **Methods**\n",
        "o Create a dictionary word_count with these key-value pairs:\n",
        " \"hello\": 5\n",
        " \"world\": 10\n",
        " \"python\": 15\n",
        "o Get all keys and print them as a list\n",
        "o Get all values and print them as a list\n",
        "o Get all key-value pairs and print them\n",
        "o Make a copy of the dictionary\n",
        "o Clear the original dictionary\n",
        "o Print both dictionaries to verify one is empty and one is a copy"
      ],
      "metadata": {
        "id": "p4vcY70EdQ_2"
      }
    },
    {
      "cell_type": "code",
      "source": [
        "# Step 1 : create the Dictionary\n",
        "\n",
        "word_count = {\n",
        "    \"hello\": 5,\n",
        "    \"world\": 10,\n",
        "    \"python\": 15\n",
        "}\n",
        "\n",
        "# step 2 : get all keys and print them as a list\n",
        "keys = list(word_count.keys())\n",
        "print(\"keys:\", keys)\n",
        "\n",
        "# Step 3: get all values and print them as a list\n",
        "values = list(word_count.values())\n",
        "print(\"values:\", values)\n",
        "\n",
        "# Step 4: get all key values pairs and print them\n",
        "items = list(word_count.items())\n",
        "print(\"key values pairs:\", items)\n",
        "\n",
        "# Step 5: Make a copy of the dictionary\n",
        "word_count_copy = word_count.copy()\n",
        "\n",
        "# Step 6: clear the original dictionary\n",
        "word_count.clear()\n",
        "\n",
        "# Step 7: print both dictionary to verify\n",
        "print(\"Original Dictionary after clear():\", word_count)\n",
        "print(\"Copied dictionary remain un changed:\", word_count_copy)\n",
        "\n"
      ],
      "metadata": {
        "colab": {
          "base_uri": "https://localhost:8080/"
        },
        "id": "lIOWZjCGdp6E",
        "outputId": "20ff0f4a-5811-434f-e06f-2c2c15b4087d"
      },
      "execution_count": null,
      "outputs": [
        {
          "output_type": "stream",
          "name": "stdout",
          "text": [
            "keys: ['hello', 'world', 'python']\n",
            "values: [5, 10, 15]\n",
            "key values pairs: [('hello', 5), ('world', 10), ('python', 15)]\n",
            "Original Dictionary after clear(): {}\n",
            "Copied dictionary remain un changed: {'hello': 5, 'world': 10, 'python': 15}\n"
          ]
        }
      ]
    },
    {
      "cell_type": "markdown",
      "source": [
        "# Shopping Discount **Calculator**\n",
        "Create a Python program that calculates the final price after applicable discounts. Do\n",
        "not use any functions - just use variables and if statements.\n",
        "\n"
      ],
      "metadata": {
        "id": "uw-A-RiNhdUA"
      }
    },
    {
      "cell_type": "code",
      "source": [
        "# Task 1: set up initial variables\n",
        "\n",
        "purchase_amount = 120.00     #Example purchase amount\n",
        "is_loyality_member = True\n",
        "day_of_week = \"saturday\"\n",
        "is_holiday_season = True\n",
        "\n",
        "# store the original amount of display\n",
        "original_amount = purchase_amount\n",
        "\n",
        "# initialize total discount\n",
        "total_discount = 0.0\n",
        "\n",
        "\n",
        "# Task 2: Apply discount rules using if statements\n",
        "\n",
        "# Rule 1: purchase amount discount\n",
        "if purchase_amount > 100:\n",
        "   discount = purchase_amount * 0.10\n",
        "   print(\"10% discount for purchase over $100 applied: $\", round(discount,2))\n",
        "   total_discount += discount\n",
        "elif purchase_amount > 50:\n",
        "  discount = purchase_amount * 0.05\n",
        "  print(\"5% discount for purchase over $50 applied: $\" , round(discount,2))\n",
        "  total_discount += discount\n",
        "\n",
        "\n",
        "# Rule 2: Loyality member discount\n",
        "if is_loyality_member:\n",
        "  loyality_discount = purchase_amount * 0.05\n",
        "  print(\"5% loyality member discount applied: $\", round(loyality_discount,2))\n",
        "  total_discount += loyality_discount\n",
        "\n",
        "# Rule 3: weekend discount\n",
        "if day_of_week == \"saturday\" or day_of_week == \"Sunday\":\n",
        "  weekend_discount = purchase_amount * 0.02\n",
        "  print(\"2% weekend discount applied: $\", round(weekend_discount,2))\n",
        "  total_discount += weekend_discount\n",
        "\n",
        "# Rule 4: Holiday season discount\n",
        "if is_holiday_season:\n",
        "  holiday_discount = purchase_amount * 0.08\n",
        "  print(\"8% holiday season discount applied: $\", round(holiday_discount,2))\n",
        "  total_discount += holiday_discount\n",
        "\n",
        "# Task 3: calculate and display final price\n",
        "final_price = purchase_amount - total_discount\n",
        "\n",
        "print(\"\\nOriginal purchase amount: $\", round(original_amount,2))\n",
        "print(\"Total discount applied : $\" , round(total_discount,2))\n",
        "print(\"Final price after discount: $\", round(final_price,2))"
      ],
      "metadata": {
        "colab": {
          "base_uri": "https://localhost:8080/"
        },
        "id": "_sGlrBmWhoYv",
        "outputId": "82f176eb-a0e5-444f-d453-d5294757bbaa"
      },
      "execution_count": null,
      "outputs": [
        {
          "output_type": "stream",
          "name": "stdout",
          "text": [
            "10% discount for purchase over $100 applied: $ 12.0\n",
            "5% loyality member discount applied: $ 6.0\n",
            "2% weekend discount applied: $ 2.4\n",
            "8% holiday season discount applied: $ 9.6\n",
            "\n",
            "Original purchase amount: $ 120.0\n",
            "Total discount applied : $ 30.0\n",
            "Final price after discount: $ 90.0\n"
          ]
        }
      ]
    },
    {
      "cell_type": "markdown",
      "source": [
        "# For Loop Assignment - Number **Patterns**\n",
        "Write a Python program that generates the following patterns using for loops:\n",
        "1. Pattern 1: Counting Numbers\n",
        "o Print numbers from 1 to 10 on a single line"
      ],
      "metadata": {
        "id": "ducMYYBqq28r"
      }
    },
    {
      "cell_type": "code",
      "source": [
        "# pattern 1: Counting Numbers\n",
        "\n",
        "for i in range (1, 11):   # Range start from 1 and end before 11\n",
        "    print(i, end=\" \")"
      ],
      "metadata": {
        "colab": {
          "base_uri": "https://localhost:8080/"
        },
        "id": "wePzDN1LrByJ",
        "outputId": "b3b0f959-080a-4318-fa97-0a6782d82016"
      },
      "execution_count": null,
      "outputs": [
        {
          "output_type": "stream",
          "name": "stdout",
          "text": [
            "1 2 3 4 5 6 7 8 9 10 "
          ]
        }
      ]
    },
    {
      "cell_type": "markdown",
      "source": [
        "# Pattern 2: Multiplication **Table**\n",
        " Create a multiplication table for the number 5 (from 1 to 10)."
      ],
      "metadata": {
        "id": "M47nORzBsIde"
      }
    },
    {
      "cell_type": "code",
      "source": [
        "# pattern 2: Multiplication Table\n",
        "\n",
        "print(\"pattern 2: Multiplication Table for 5\")\n",
        "for i in range (1, 11):\n",
        "  print(f'5 x {i} = {5 * i}')"
      ],
      "metadata": {
        "colab": {
          "base_uri": "https://localhost:8080/"
        },
        "id": "f6-8VrcssRpV",
        "outputId": "3af96ac4-3a5c-43c2-a30c-a0c058dd644e"
      },
      "execution_count": null,
      "outputs": [
        {
          "output_type": "stream",
          "name": "stdout",
          "text": [
            "pattern 2: Multiplication Table for 5\n",
            "5 x 1 = 5\n",
            "5 x 2 = 10\n",
            "5 x 3 = 15\n",
            "5 x 4 = 20\n",
            "5 x 5 = 25\n",
            "5 x 6 = 30\n",
            "5 x 7 = 35\n",
            "5 x 8 = 40\n",
            "5 x 9 = 45\n",
            "5 x 10 = 50\n"
          ]
        }
      ]
    },
    {
      "cell_type": "markdown",
      "source": [
        "# While Loop Assignment - Interactive **Game**\n",
        "Write a Python program that:\n",
        "1. Sets a \"secret number\" (you can choose any number between 1 and 50)\n",
        "2. Asks the player to guess the number\n",
        "3. Tells the player if their guess is too high or too low\n",
        "4. Keeps asking until the player guesses correctly\n",
        "5. Keeps track of how many guesses it took"
      ],
      "metadata": {
        "id": "RyVypQfKtRKC"
      }
    },
    {
      "cell_type": "code",
      "source": [
        "# Secret number guessing Game\n",
        "\n",
        "secret_number = 29   # you can set this to any number between 1 to 50\n",
        "guess = None\n",
        "guess_count = 0\n",
        "\n",
        "print(\"Welcome to the Guessing Number Game!\")\n",
        "print(\"Guess the secret number between 1 to 50.\")\n",
        "\n",
        "while guess != secret_number:\n",
        "  guess = int(input(\"Enter your guess:\"))\n",
        "  guess_count += 1\n",
        "\n",
        "  if guess < secret_number:\n",
        "    print(\"Too low! Try again.\")\n",
        "  elif guess > secret_number:\n",
        "    print(\"Too high! Try again.\")\n",
        "  else:\n",
        "    print(f\"Congratulation! you guess the number {secret_number} correctly in {guess_count} attempts.\")\n"
      ],
      "metadata": {
        "colab": {
          "base_uri": "https://localhost:8080/"
        },
        "id": "thustnbbtaGh",
        "outputId": "4d48c898-54be-499a-e9da-a6eab57cc3a0"
      },
      "execution_count": null,
      "outputs": [
        {
          "output_type": "stream",
          "name": "stdout",
          "text": [
            "Welcome to the Guessing Number Game!\n",
            "Guess the secret number between 1 to 50.\n",
            "Enter your guess:49\n",
            "Too high! Try again.\n",
            "Enter your guess:32\n",
            "Too high! Try again.\n",
            "Enter your guess:25\n",
            "Too low! Try again.\n",
            "Enter your guess:27\n",
            "Too low! Try again.\n",
            "Enter your guess:29\n",
            "Congratulation! you guess the number 29 correctly in 5 attempts.\n"
          ]
        }
      ]
    },
    {
      "cell_type": "markdown",
      "source": [
        "# Student Grade Management **System**\n",
        "1. Create a list to store information about students"
      ],
      "metadata": {
        "id": "hZSRqKcZ2TE8"
      }
    },
    {
      "cell_type": "code",
      "source": [
        "# Student Grade Management System\n",
        "\n",
        "# step 1: create list to store student data\n",
        "\n",
        "students = [\n",
        "   { \"name\": \"Ayan\",\n",
        "    \"id\": 101,\n",
        "    \"grades\":{\n",
        "        \"Maths\":85,\n",
        "        \"science\":75,\n",
        "        \"english\":95\n",
        "    }\n",
        "},\n",
        "{\n",
        "    \"name\": \"Irtesam\",\n",
        "    \"id\": 102,\n",
        "    \"grades\": {\n",
        "        \"Maths\": 96,\n",
        "        \"Science\":88,\n",
        "        \"English\": 78\n",
        "    }\n",
        "},\n",
        "{\n",
        "     \"name\": \"Naseer\",\n",
        "     \"id\": 103,\n",
        "     \"grades\": {\n",
        "         \"Maths\": 98,\n",
        "         \"Science\": 86,\n",
        "         \"English\": 93\n",
        "     }\n",
        "}\n",
        "]\n",
        "\n",
        "# Step 2: Display all student with their grades\n",
        "print(\"\\nAll students and thier Grades:\")\n",
        "for student in students:\n",
        "    print(f\"Name: {student['name']}, ID {student['id']}, Grades {student['grades']}\")\n",
        "\n",
        "# Step 3: Display and Calculate Average Grade of each student.\n",
        "print(\"\\nAverage Grade  for each student:\")\n",
        "for student in students:\n",
        "  grades = student[\"grades\"].values()\n",
        "  avg = sum(grades)/ len (grades)\n",
        "  print(f\"{student['name']} - Average Grade:,{round(avg, 2)}\")\n",
        "\n",
        "# Step 4: Find the student with the heighest Average Grade\n",
        "top_student = None\n",
        "heighets_avg = 0\n",
        "for student in students:\n",
        "  grades = student[\"grades\"].values()\n",
        "  avg = sum(grades)/ len (grades)\n",
        "  if avg> heighets_avg:\n",
        "    heighets_avg = avg\n",
        "    top_student = student\n",
        "print(f\"\\nTop student {top_student['name']} with Average Grade: {round(heighets_avg, 2)}\")\n",
        "\n",
        "\n",
        "# step 5: Student list with average grade above 80\n",
        "\n",
        "print(\"\\nStudents with average grade Above 80:\")\n",
        "for student in students:\n",
        "  grades = student[\"grades\"].values()\n",
        "  avg = sum(grades)/ len(grades)\n",
        "  if avg > 80:\n",
        "    print(f\"{student['name']} - Average: {round(avg, 2)}\")\n",
        "\n",
        "# Step 6: Calculate average grade for specific course (e.g, Math)\n",
        "\n",
        "course_name = \"Math\"\n",
        "total = 0\n",
        "count = 0\n",
        "for student in students:\n",
        "  if course_name in student [\"grades\"]:\n",
        "    total += student [\"grades\"][course_name]\n",
        "    count += 1\n",
        "\n",
        "if count > 0:\n",
        "  course_avg = total / count\n",
        "  print(f\"\\nAverage grade for {course_name}: {round (course_avg, 2)}\")\n",
        "else:\n",
        "  print(f\"\\n No Data found for course: {course_name}\")\n",
        "\n",
        "\n",
        "# Step 7: Add a new student to the system\n",
        "\n",
        "new_student = {\n",
        "    \"name\": \"David lee\",\n",
        "    \"id\": 104,\n",
        "    \"grades\":{\n",
        "        \"Math\":89,\n",
        "        \"Science\":90,\n",
        "        \"English\": 86,\n",
        "    }\n",
        "}\n",
        "\n",
        "students.append(new_student)\n",
        "print(f\"\\nNew student {new_student['name']} added successfully!\")\n",
        "\n",
        "# Final display of all student data\n",
        "\n",
        "print(\"\\nupdated student list:\")\n",
        "for student in students:\n",
        "  print(f\"Name: {student['name']} id: {student['id']} Grades: {student['grades']}\")\n",
        "\n"
      ],
      "metadata": {
        "id": "SKW6560b2q3L",
        "colab": {
          "base_uri": "https://localhost:8080/"
        },
        "outputId": "e7b3a257-5554-45cf-cb8e-69f3100d0323"
      },
      "execution_count": 5,
      "outputs": [
        {
          "output_type": "stream",
          "name": "stdout",
          "text": [
            "\n",
            "All students and thier Grades:\n",
            "Name: Ayan, ID 101, Grades {'Maths': 85, 'science': 75, 'english': 95}\n",
            "Name: Irtesam, ID 102, Grades {'Maths': 96, 'Science': 88, 'English': 78}\n",
            "Name: Naseer, ID 103, Grades {'Maths': 98, 'Science': 86, 'English': 93}\n",
            "\n",
            "Average Grade  for each student:\n",
            "Ayan - Average Grade:,85.0\n",
            "Irtesam - Average Grade:,87.33\n",
            "Naseer - Average Grade:,92.33\n",
            "\n",
            "Top student Naseer with Average Grade: 92.33\n",
            "\n",
            "Students with average grade Above 80:\n",
            "Ayan - Average: 85.0\n",
            "Irtesam - Average: 87.33\n",
            "Naseer - Average: 92.33\n",
            "\n",
            " No Data found for course: Math\n",
            "\n",
            "New student David lee added successfully!\n",
            "\n",
            "updated student list:\n",
            "Name: Ayan id: 101 Grades: {'Maths': 85, 'science': 75, 'english': 95}\n",
            "Name: Irtesam id: 102 Grades: {'Maths': 96, 'Science': 88, 'English': 78}\n",
            "Name: Naseer id: 103 Grades: {'Maths': 98, 'Science': 86, 'English': 93}\n",
            "Name: David lee id: 104 Grades: {'Math': 89, 'Science': 90, 'English': 86}\n"
          ]
        }
      ]
    }
  ]
}